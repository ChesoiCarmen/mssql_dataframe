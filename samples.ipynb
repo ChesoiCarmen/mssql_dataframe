{
    "cells": [
        {
            "cell_type": "markdown",
            "source": [
                "Initialization"
            ],
            "metadata": {}
        },
        {
            "cell_type": "code",
            "execution_count": null,
            "source": [
                "# Initialization\r\n",
                "from mssql_dataframe.connect import connect\r\n",
                "from mssql_dataframe.collection import SQLServer\r\n",
                "\r\n",
                "# connect to an on-premise database using pyodbc and Windows authentication\r\n",
                "db = connect(database_name='master', server_name='localhost')\r\n",
                "# # or an Azure SQL database\r\n",
                "# # db = connect(server_name='<server>.database.windows.net', username='<username>', password='<password>')\r\n",
                "\r\n",
                "# using a single connection, initialize the class\r\n",
                "sql = SQLServer(db)\r\n",
                "# # or initialize the class with the ability to modify SQL objects as needed\r\n",
                "# # sql = SQLServer(db, adjust_sql_objects=True)"
            ],
            "outputs": [],
            "metadata": {}
        },
        {
            "cell_type": "markdown",
            "source": [
                "Updating"
            ],
            "metadata": {}
        },
        {
            "cell_type": "code",
            "execution_count": null,
            "source": [
                "import pandas as pd\r\n",
                "import time\r\n",
                "\r\n",
                "from mssql_dataframe.connect import connect\r\n",
                "from mssql_dataframe.collection import SQLServer\r\n",
                "\r\n",
                "db = connect(database_name='master', server_name='localhost')\r\n",
                "sql = SQLServer(db, adjust_sql_objects=True)\r\n",
                "\r\n",
                "table_name = '##sample_update'\r\n",
                "\r\n",
                "# create table to update\r\n",
                "dataframe = pd.DataFrame({\r\n",
                "    'UnaffectedColumn': list(range(0,100000,1)),\r\n",
                "    'UpdateColumn': [0]*100000 \r\n",
                "})\r\n",
                "dataframe = sql.create.table_from_dataframe(table_name, dataframe, primary_key='index', row_count=1)\r\n",
                "sql.write.insert(table_name, dataframe)\r\n",
                "\r\n",
                "# update values in table, using the SQL primary key\r\n",
                "dataframe['UpdateColumn'] = list(range(0,100000,1))\r\n",
                "sql.write.update(table_name, dataframe[['UpdateColumn']])"
            ],
            "outputs": [],
            "metadata": {}
        }
    ],
    "metadata": {
        "orig_nbformat": 4,
        "language_info": {
            "name": "python"
        }
    },
    "nbformat": 4,
    "nbformat_minor": 2
}